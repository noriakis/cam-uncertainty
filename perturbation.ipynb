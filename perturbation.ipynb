{
 "cells": [
  {
   "cell_type": "code",
   "execution_count": 1,
   "metadata": {},
   "outputs": [
    {
     "name": "stdout",
     "output_type": "stream",
     "text": [
      "WARNING:tensorflow:Compiled the loaded model, but the compiled metrics have yet to be built. `model.compile_metrics` will be empty until you train or evaluate the model.\n",
      "WARNING:tensorflow:No training configuration found in the save file, so the model was *not* compiled. Compile it manually.\n"
     ]
    }
   ],
   "source": [
    "import tensorflow as tf\n",
    "from utils import *\n",
    "from PIL import Image\n",
    "import numpy as np\n",
    "import matplotlib.pyplot as plt\n",
    "\n",
    "# Prepare VGG16 with dropout layers\n",
    "raw_model = tf.keras.applications.vgg16.VGG16(include_top=True, weights='imagenet')\n",
    "export_dropout_vgg16(0.8)\n",
    "dropout_model = tf.keras.models.load_model(\"dropout_model.h5\")\n",
    "layer_name = \"block5_conv3\""
   ]
  },
  {
   "cell_type": "code",
   "execution_count": 2,
   "metadata": {},
   "outputs": [
    {
     "name": "stdout",
     "output_type": "stream",
     "text": [
      "input shape: (224, 224, 3)\n"
     ]
    }
   ],
   "source": [
    "# Load and preprocess a sample image\n",
    "input_image = np.load(\"images/ILSVRC2012_val_00034065.npy\")\n",
    "print(\"input shape:\", input_image.shape)\n",
    "preprocessed_input = np.expand_dims(tf.keras.applications.vgg16.preprocess_input(input_image), 0)"
   ]
  },
  {
   "cell_type": "code",
   "execution_count": 3,
   "metadata": {},
   "outputs": [],
   "source": [
    "# Prediction of the raw model\n",
    "category_index = np.argmax(raw_model(preprocessed_input))"
   ]
  },
  {
   "cell_type": "code",
   "execution_count": 4,
   "metadata": {},
   "outputs": [],
   "source": [
    "# Raw grad-cam and score-cam\n",
    "gradcam_image, _ = GradCam(raw_model,\n",
    "        image = preprocessed_input,\n",
    "        category_index = category_index,\n",
    "       layer_name = layer_name,\n",
    "        raw_array = input_image,\n",
    "        dimension = 224\n",
    "       )\n",
    "scorecam_image, _ = ScoreCam(raw_model,\n",
    "        image = preprocessed_input,\n",
    "        category_index = category_index,\n",
    "       layer_name = layer_name,\n",
    "        raw_array = input_image,\n",
    "        dimension = 224\n",
    "       )"
   ]
  },
  {
   "cell_type": "code",
   "execution_count": 5,
   "metadata": {},
   "outputs": [
    {
     "name": "stderr",
     "output_type": "stream",
     "text": [
      "100%|████████████████████████████████████████████████████████████████████████████████| 100/100 [03:02<00:00,  1.83s/it]\n"
     ]
    }
   ],
   "source": [
    "# MC-dropout grad-cam and score-cam\n",
    "dropout_gradcam_image, _ = GradCam_Dropout(dropout_model,\n",
    "        image = preprocessed_input,\n",
    "        category_index = category_index,\n",
    "       layer_name = layer_name,\n",
    "        raw_array = input_image,\n",
    "        dimension = 224,\n",
    "        sample = 100\n",
    "       )"
   ]
  },
  {
   "cell_type": "code",
   "execution_count": 7,
   "metadata": {},
   "outputs": [],
   "source": [
    "dropout_scorecam_image, _ = ScoreCam_Dropout(dropout_model,\n",
    "        image = preprocessed_input,\n",
    "        category_index = category_index,\n",
    "       layer_name = layer_name,\n",
    "        raw_array = input_image,\n",
    "        dimension = 224,\n",
    "        sample = 100\n",
    "       )"
   ]
  },
  {
   "cell_type": "code",
   "execution_count": null,
   "metadata": {},
   "outputs": [],
   "source": [
    "fignum = 4\n",
    "fig = plt.figure()\n",
    "\n",
    "ax0 = fig.add_subplot(1, fignum, 1)\n",
    "ax0.imshow(Image.fromarray(gradcam_image))\n",
    "ax0.set_title('Grad-CAM', fontsize=30)\n",
    "\n",
    "ax1 = fig.add_subplot(1, fignum, 2)\n",
    "ax1.imshow(Image.fromarray(dropout_gradcam_image))\n",
    "ax1.set_title('weighted Grad-CAM', fontsize=30)\n",
    "\n",
    "ax2 = fig.add_subplot(1, fignum, 3)\n",
    "ax2.imshow(Image.fromarray(scorecam_image))\n",
    "ax2.set_title('Score-CAM', fontsize=30)\n",
    "\n",
    "ax3 = fig.add_subplot(1, fignum, 4)\n",
    "ax3.imshow(Image.fromarray(scorecam_image))\n",
    "ax3.set_title('weighted Score-CAM', fontsize=30)\n",
    "\n",
    "fig.set_size_inches(15, 15)\n",
    "fig.tight_layout()"
   ]
  },
  {
   "cell_type": "code",
   "execution_count": null,
   "metadata": {},
   "outputs": [],
   "source": []
  }
 ],
 "metadata": {
  "kernelspec": {
   "display_name": "Python 3",
   "language": "python",
   "name": "python3"
  },
  "language_info": {
   "codemirror_mode": {
    "name": "ipython",
    "version": 3
   },
   "file_extension": ".py",
   "mimetype": "text/x-python",
   "name": "python",
   "nbconvert_exporter": "python",
   "pygments_lexer": "ipython3",
   "version": "3.7.6"
  }
 },
 "nbformat": 4,
 "nbformat_minor": 5
}
